{
 "cells": [
  {
   "cell_type": "markdown",
   "id": "fd95d3f3",
   "metadata": {},
   "source": [
    "1. Try to extract data from index one to index 300 with a jump of 3\n",
    "2. Try to reverse a string without using reverse function\n",
    "3. Try to spit a string after conversion of entire string in uppercase\n",
    "4. Try to convert the whole string into lower case\n",
    "5. try to capitalize\n",
    "6. Write a difference b/w isalnum and isalpha()\n",
    "7. Try to give an example of expand tab\n",
    "8. Give a example of strip , lstrip and  rstrip\n",
    "9. Replace a string character by another character by taking your own example\n",
    "10. Try to give definition of center function\n",
    "11. Write your own definition of complier and interpretor without copy pastr from internet \n",
    "12. Python is a interpreted of compiled language , give a clear ans with your understanding\n",
    "13. Try to write a usecase of pyhton with your uderstandings.\n",
    "\n"
   ]
  },
  {
   "cell_type": "markdown",
   "id": "f05c744e",
   "metadata": {},
   "source": [
    "# Question-1"
   ]
  },
  {
   "cell_type": "code",
   "execution_count": 139,
   "id": "811c29e1",
   "metadata": {},
   "outputs": [
    {
     "data": {
      "text/plain": [
       "'tssyityopgmncsa alrNpt rgni nis'"
      ]
     },
     "execution_count": 139,
     "metadata": {},
     "output_type": "execute_result"
    }
   ],
   "source": [
    "s[0:300:3]"
   ]
  },
  {
   "cell_type": "markdown",
   "id": "b7451950",
   "metadata": {},
   "source": [
    "# Question-2"
   ]
  },
  {
   "cell_type": "code",
   "execution_count": 140,
   "id": "eaadf4e4",
   "metadata": {},
   "outputs": [
    {
     "data": {
      "text/plain": [
       "'snoitcnuf sti dna gnirts nothyp GNINrael ma i dna ssalc gnimmargorp nothyP tsriF yM si siht'"
      ]
     },
     "execution_count": 140,
     "metadata": {},
     "output_type": "execute_result"
    }
   ],
   "source": [
    "s[::-1]"
   ]
  },
  {
   "cell_type": "markdown",
   "id": "4861157a",
   "metadata": {},
   "source": [
    "# Question -3 "
   ]
  },
  {
   "cell_type": "code",
   "execution_count": 145,
   "id": "b3158f91",
   "metadata": {},
   "outputs": [],
   "source": [
    "s=s.upper()"
   ]
  },
  {
   "cell_type": "code",
   "execution_count": 146,
   "id": "de6d8a1d",
   "metadata": {},
   "outputs": [
    {
     "data": {
      "text/plain": [
       "'THIS IS MY FIRST PYHTON PROGRAMMING CLASS AND I AM LEARNING PYHTON STRING AND ITS FUNCTIONS'"
      ]
     },
     "execution_count": 146,
     "metadata": {},
     "output_type": "execute_result"
    }
   ],
   "source": [
    "s"
   ]
  },
  {
   "cell_type": "code",
   "execution_count": 147,
   "id": "38231730",
   "metadata": {
    "scrolled": true
   },
   "outputs": [
    {
     "data": {
      "text/plain": [
       "['THIS',\n",
       " 'IS',\n",
       " 'MY',\n",
       " 'FIRST',\n",
       " 'PYHTON',\n",
       " 'PROGRAMMING',\n",
       " 'CLASS',\n",
       " 'AND',\n",
       " 'I',\n",
       " 'AM',\n",
       " 'LEARNING',\n",
       " 'PYHTON',\n",
       " 'STRING',\n",
       " 'AND',\n",
       " 'ITS',\n",
       " 'FUNCTIONS']"
      ]
     },
     "execution_count": 147,
     "metadata": {},
     "output_type": "execute_result"
    }
   ],
   "source": [
    "s.split(\" \")"
   ]
  },
  {
   "cell_type": "markdown",
   "id": "33ddf65c",
   "metadata": {},
   "source": [
    "# Question-4"
   ]
  },
  {
   "cell_type": "code",
   "execution_count": 148,
   "id": "c3fb8a46",
   "metadata": {},
   "outputs": [
    {
     "data": {
      "text/plain": [
       "'this is my first pyhton programming class and i am learning pyhton string and its functions'"
      ]
     },
     "execution_count": 148,
     "metadata": {},
     "output_type": "execute_result"
    }
   ],
   "source": [
    "s.lower()"
   ]
  },
  {
   "cell_type": "markdown",
   "id": "52902c04",
   "metadata": {},
   "source": [
    "# Question-5"
   ]
  },
  {
   "cell_type": "code",
   "execution_count": 149,
   "id": "5769d6d1",
   "metadata": {},
   "outputs": [
    {
     "data": {
      "text/plain": [
       "'This is my first pyhton programming class and i am learning pyhton string and its functions'"
      ]
     },
     "execution_count": 149,
     "metadata": {},
     "output_type": "execute_result"
    }
   ],
   "source": [
    "s.capitalize()"
   ]
  },
  {
   "cell_type": "markdown",
   "id": "312b005e",
   "metadata": {},
   "source": [
    "# Question-6"
   ]
  },
  {
   "cell_type": "code",
   "execution_count": 151,
   "id": "c0cfb7f7",
   "metadata": {},
   "outputs": [
    {
     "data": {
      "text/plain": [
       "False"
      ]
     },
     "execution_count": 151,
     "metadata": {},
     "output_type": "execute_result"
    }
   ],
   "source": [
    "s.isalpha()"
   ]
  },
  {
   "cell_type": "code",
   "execution_count": 159,
   "id": "846f5822",
   "metadata": {},
   "outputs": [],
   "source": [
    "s='abhi'"
   ]
  },
  {
   "cell_type": "code",
   "execution_count": 160,
   "id": "837a169b",
   "metadata": {},
   "outputs": [
    {
     "data": {
      "text/plain": [
       "True"
      ]
     },
     "execution_count": 160,
     "metadata": {},
     "output_type": "execute_result"
    }
   ],
   "source": [
    "s.isalpha()"
   ]
  },
  {
   "cell_type": "markdown",
   "id": "11d59a2d",
   "metadata": {},
   "source": [
    "isaplha() - A string is alphabetic if all characters in the string are alphabetic\n",
    "\n",
    "isalnum() - A string is alpha-numeric if all characters in the string are alpha-numeric and\n",
    "there is at least one character in the string."
   ]
  },
  {
   "cell_type": "markdown",
   "id": "a1c78de4",
   "metadata": {},
   "source": [
    "# Questin-7"
   ]
  },
  {
   "cell_type": "code",
   "execution_count": 167,
   "id": "499638c7",
   "metadata": {},
   "outputs": [],
   "source": [
    "s='hi my/t name is abhinav'"
   ]
  },
  {
   "cell_type": "code",
   "execution_count": 168,
   "id": "38c36761",
   "metadata": {},
   "outputs": [
    {
     "data": {
      "text/plain": [
       "'hi my/t name is abhinav'"
      ]
     },
     "execution_count": 168,
     "metadata": {},
     "output_type": "execute_result"
    }
   ],
   "source": [
    "s.expandtabs(7)"
   ]
  },
  {
   "cell_type": "markdown",
   "id": "5ecc2511",
   "metadata": {},
   "source": [
    "# Question-8"
   ]
  },
  {
   "cell_type": "code",
   "execution_count": 169,
   "id": "e35e8654",
   "metadata": {},
   "outputs": [],
   "source": [
    "s = \"   abhinav  \""
   ]
  },
  {
   "cell_type": "code",
   "execution_count": 170,
   "id": "1f6c8319",
   "metadata": {},
   "outputs": [
    {
     "data": {
      "text/plain": [
       "'abhinav'"
      ]
     },
     "execution_count": 170,
     "metadata": {},
     "output_type": "execute_result"
    }
   ],
   "source": [
    "s.strip()"
   ]
  },
  {
   "cell_type": "code",
   "execution_count": 171,
   "id": "68928770",
   "metadata": {},
   "outputs": [
    {
     "data": {
      "text/plain": [
       "'abhinav  '"
      ]
     },
     "execution_count": 171,
     "metadata": {},
     "output_type": "execute_result"
    }
   ],
   "source": [
    "s.lstrip()"
   ]
  },
  {
   "cell_type": "code",
   "execution_count": 172,
   "id": "c1a35d3e",
   "metadata": {},
   "outputs": [
    {
     "data": {
      "text/plain": [
       "'   abhinav'"
      ]
     },
     "execution_count": 172,
     "metadata": {},
     "output_type": "execute_result"
    }
   ],
   "source": [
    "s.rstrip()"
   ]
  },
  {
   "cell_type": "markdown",
   "id": "8ca7507c",
   "metadata": {},
   "source": [
    "# Question-9"
   ]
  },
  {
   "cell_type": "code",
   "execution_count": 173,
   "id": "ea7772cd",
   "metadata": {},
   "outputs": [],
   "source": [
    "s='abhinav'"
   ]
  },
  {
   "cell_type": "code",
   "execution_count": 174,
   "id": "0d2b44d3",
   "metadata": {
    "scrolled": true
   },
   "outputs": [
    {
     "data": {
      "text/plain": [
       "'kbhinkv'"
      ]
     },
     "execution_count": 174,
     "metadata": {},
     "output_type": "execute_result"
    }
   ],
   "source": [
    "s.replace('a','k')"
   ]
  },
  {
   "cell_type": "markdown",
   "id": "2eef788f",
   "metadata": {},
   "source": [
    "# Question-10"
   ]
  },
  {
   "cell_type": "code",
   "execution_count": 179,
   "id": "57854deb",
   "metadata": {},
   "outputs": [
    {
     "data": {
      "text/plain": [
       "'######abhinav#######'"
      ]
     },
     "execution_count": 179,
     "metadata": {},
     "output_type": "execute_result"
    }
   ],
   "source": [
    "s.center(20,'#')"
   ]
  },
  {
   "cell_type": "markdown",
   "id": "9addc90e",
   "metadata": {},
   "source": [
    "Center is a string fuction , which has two arguments one is the number of spaces(width) and the other is the char that needs to be replaced by spaces along with the String "
   ]
  },
  {
   "cell_type": "markdown",
   "id": "7653741a",
   "metadata": {},
   "source": [
    "# Question-11"
   ]
  },
  {
   "cell_type": "markdown",
   "id": "be74cde8",
   "metadata": {},
   "source": [
    "Compiler is a software which transaltes the code language(in Pyhton,C++ etc) into machine-language instructions that can be understood by the computer and give us the desired output\n",
    "Now interpretter directly excecutes the code language without compiling them or translting them into machine-language"
   ]
  },
  {
   "cell_type": "markdown",
   "id": "9f24b16d",
   "metadata": {},
   "source": [
    "# Question-12"
   ]
  },
  {
   "cell_type": "markdown",
   "id": "a6e6fc6c",
   "metadata": {},
   "source": [
    "Python program runs directly from the source code , Python converts source code written by the programmer into intermediate language which is again translated into the machine language that is executed. So Python is an Interpreted language."
   ]
  },
  {
   "cell_type": "markdown",
   "id": "1313bf16",
   "metadata": {},
   "source": [
    "# Question-13"
   ]
  },
  {
   "cell_type": "markdown",
   "id": "d0e472de",
   "metadata": {},
   "source": [
    "USE CASE\n",
    "1. Robotics\n",
    "2. Data Analysis\n",
    "3. Web Development\n",
    "4. AI\n",
    "5. Automation"
   ]
  },
  {
   "cell_type": "code",
   "execution_count": null,
   "id": "61d34227",
   "metadata": {},
   "outputs": [],
   "source": []
  },
  {
   "cell_type": "code",
   "execution_count": null,
   "id": "b4614d76",
   "metadata": {},
   "outputs": [],
   "source": []
  }
 ],
 "metadata": {
  "kernelspec": {
   "display_name": "Python 3 (ipykernel)",
   "language": "python",
   "name": "python3"
  },
  "language_info": {
   "codemirror_mode": {
    "name": "ipython",
    "version": 3
   },
   "file_extension": ".py",
   "mimetype": "text/x-python",
   "name": "python",
   "nbconvert_exporter": "python",
   "pygments_lexer": "ipython3",
   "version": "3.9.7"
  }
 },
 "nbformat": 4,
 "nbformat_minor": 5
}
